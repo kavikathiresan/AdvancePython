{
 "cells": [
  {
   "cell_type": "raw",
   "id": "94e903a4",
   "metadata": {},
   "source": [
    "# team leader is busy giving his work to member and they will do it"
   ]
  },
  {
   "cell_type": "code",
   "execution_count": 3,
   "id": "aab50427",
   "metadata": {},
   "outputs": [],
   "source": [
    "from abc import ABC"
   ]
  },
  {
   "cell_type": "code",
   "execution_count": 4,
   "id": "e6556e24",
   "metadata": {},
   "outputs": [
    {
     "name": "stdout",
     "output_type": "stream",
     "text": [
      "sukuzi mile is 11km\n"
     ]
    }
   ],
   "source": [
    "class Car:\n",
    "    def mileage(self):\n",
    "        pass\n",
    "class sukuzi(Car):\n",
    "    def mileage(self):\n",
    "        print(\"sukuzi mile is 11km\")\n",
    "        \n",
    "class honda(Car):\n",
    "    def mileage(self):\n",
    "        print(\"honda mile is 15km\")\n",
    "obj=sukuzi()\n",
    "obj.mileage()"
   ]
  },
  {
   "cell_type": "code",
   "execution_count": null,
   "id": "309b1d62",
   "metadata": {},
   "outputs": [],
   "source": []
  }
 ],
 "metadata": {
  "kernelspec": {
   "display_name": "Python 3 (ipykernel)",
   "language": "python",
   "name": "python3"
  },
  "language_info": {
   "codemirror_mode": {
    "name": "ipython",
    "version": 3
   },
   "file_extension": ".py",
   "mimetype": "text/x-python",
   "name": "python",
   "nbconvert_exporter": "python",
   "pygments_lexer": "ipython3",
   "version": "3.10.9"
  }
 },
 "nbformat": 4,
 "nbformat_minor": 5
}
