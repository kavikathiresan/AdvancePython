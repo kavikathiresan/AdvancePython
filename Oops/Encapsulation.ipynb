{
 "cells": [
  {
   "cell_type": "markdown",
   "id": "2f153946",
   "metadata": {},
   "source": [
    "# Encapsulation security works with access modifier concepts"
   ]
  },
  {
   "cell_type": "markdown",
   "id": "fd2098c3",
   "metadata": {},
   "source": [
    "# Public"
   ]
  },
  {
   "cell_type": "code",
   "execution_count": 1,
   "id": "6bca8648",
   "metadata": {},
   "outputs": [
    {
     "name": "stdout",
     "output_type": "stream",
     "text": [
      "type the name of parent\n"
     ]
    }
   ],
   "source": [
    "class Parent:\n",
    "    def name(self):\n",
    "        print(\"type the name of parent\")\n",
    "obj = Parent()\n",
    "obj.name()"
   ]
  },
  {
   "cell_type": "code",
   "execution_count": 8,
   "id": "2204c303",
   "metadata": {},
   "outputs": [
    {
     "name": "stdout",
     "output_type": "stream",
     "text": [
      "10\n",
      "this is a public method\n"
     ]
    }
   ],
   "source": [
    "class public_var:\n",
    "    def __init__(self):\n",
    "        self.public_var=10\n",
    "        \n",
    "    def public_method(self):\n",
    "        print(\"this is a public method\")\n",
    "obj = public_var()\n",
    "print(obj.public_var)\n",
    "obj.public_method()"
   ]
  },
  {
   "cell_type": "markdown",
   "id": "db4bfc31",
   "metadata": {},
   "source": [
    "# Protected"
   ]
  },
  {
   "cell_type": "raw",
   "id": "8a8fec34",
   "metadata": {},
   "source": [
    "- single Inheritance"
   ]
  },
  {
   "cell_type": "code",
   "execution_count": 11,
   "id": "29701b96",
   "metadata": {},
   "outputs": [
    {
     "name": "stdout",
     "output_type": "stream",
     "text": [
      "Calling protected member of base class:  2\n",
      "Calling modified protected member outside class:  3\n"
     ]
    }
   ],
   "source": [
    "class Base:\n",
    "    def __init__(self):\n",
    "  \n",
    "        self._a = 2\n",
    "\n",
    "class Derived(Base):\n",
    "    def __init__(self):\n",
    "  \n",
    "        Base.__init__(self)\n",
    "        print(\"Calling protected member of base class: \", \n",
    "              self._a)\n",
    "        self._a = 3\n",
    "        print(\"Calling modified protected member outside class: \",\n",
    "              self._a)\n",
    "  \n",
    "  \n",
    "obj1 = Derived()\n",
    "\n"
   ]
  },
  {
   "cell_type": "markdown",
   "id": "af9d9436",
   "metadata": {},
   "source": [
    "# Private"
   ]
  },
  {
   "cell_type": "code",
   "execution_count": 14,
   "id": "1c7a5232",
   "metadata": {},
   "outputs": [
    {
     "name": "stdout",
     "output_type": "stream",
     "text": [
      "20\n",
      "hi\n"
     ]
    }
   ],
   "source": [
    "class kai:\n",
    "    def __init__(self):\n",
    "        self._a=20\n",
    "        \n",
    "    def fun(self):\n",
    "        print(\"hi\")\n",
    "obj = kai()\n",
    "print(obj._a)\n",
    "obj.fun()\n",
    "        "
   ]
  },
  {
   "cell_type": "code",
   "execution_count": null,
   "id": "c69e18ad",
   "metadata": {},
   "outputs": [],
   "source": [
    "\n"
   ]
  },
  {
   "cell_type": "code",
   "execution_count": null,
   "id": "96430096",
   "metadata": {},
   "outputs": [],
   "source": []
  }
 ],
 "metadata": {
  "kernelspec": {
   "display_name": "Python 3 (ipykernel)",
   "language": "python",
   "name": "python3"
  },
  "language_info": {
   "codemirror_mode": {
    "name": "ipython",
    "version": 3
   },
   "file_extension": ".py",
   "mimetype": "text/x-python",
   "name": "python",
   "nbconvert_exporter": "python",
   "pygments_lexer": "ipython3",
   "version": "3.10.9"
  }
 },
 "nbformat": 4,
 "nbformat_minor": 5
}
