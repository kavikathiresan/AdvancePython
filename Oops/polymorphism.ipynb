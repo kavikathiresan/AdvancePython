{
 "cells": [
  {
   "cell_type": "raw",
   "id": "1fa3fe62",
   "metadata": {},
   "source": [
    "poly - Geeks\n",
    "morphism - forms"
   ]
  },
  {
   "cell_type": "markdown",
   "id": "9632abd5",
   "metadata": {},
   "source": [
    "# Method overriding"
   ]
  },
  {
   "cell_type": "raw",
   "id": "a51a4160",
   "metadata": {},
   "source": [
    "- same function name with different arguments"
   ]
  },
  {
   "cell_type": "code",
   "execution_count": 1,
   "id": "4e9bdfdc",
   "metadata": {},
   "outputs": [],
   "source": [
    "def add(x, y, z = 0):\n",
    "    return x + y+z"
   ]
  },
  {
   "cell_type": "code",
   "execution_count": 2,
   "id": "5dd2639c",
   "metadata": {},
   "outputs": [
    {
     "name": "stdout",
     "output_type": "stream",
     "text": [
      "6\n",
      "9\n"
     ]
    }
   ],
   "source": [
    "print(add(2,4))\n",
    "print(add(2,3,4))"
   ]
  },
  {
   "cell_type": "code",
   "execution_count": 6,
   "id": "d99c50ea",
   "metadata": {},
   "outputs": [
    {
     "name": "stdout",
     "output_type": "stream",
     "text": [
      "New Delhi is the capital of India.\n",
      "Hindi is the most widely spoken language of India.\n",
      "India is a developing country.\n"
     ]
    }
   ],
   "source": [
    "class India():\n",
    "    def capital(self):\n",
    "        print(\"New Delhi is the capital of India.\")\n",
    " \n",
    "    def language(self):\n",
    "        print(\"Hindi is the most widely spoken language of India.\")\n",
    " \n",
    "    def type(self):\n",
    "        print(\"India is a developing country.\")\n",
    "         \n",
    "class usa(India):\n",
    "    def capital(self):\n",
    "        print(\"Washington, D.C. is the capital of USA.\")\n",
    " \n",
    "    def language(self):\n",
    "        print(\"English is the primary language of USA.\")\n",
    " \n",
    "    def type(self):\n",
    "        print(\"USA is a developed country.\")\n",
    "        \n",
    "obj = India()\n",
    "obj.capital()\n",
    "obj.language()\n",
    "obj.type()"
   ]
  },
  {
   "cell_type": "code",
   "execution_count": 7,
   "id": "ca495352",
   "metadata": {},
   "outputs": [
    {
     "name": "stdout",
     "output_type": "stream",
     "text": [
      "Washington, D.C. is the capital of USA.\n",
      "English is the primary language of USA.\n",
      "USA is a developed country.\n"
     ]
    }
   ],
   "source": [
    "class India():\n",
    "    def capital(self):\n",
    "        print(\"New Delhi is the capital of India.\")\n",
    " \n",
    "    def language(self):\n",
    "        print(\"Hindi is the most widely spoken language of India.\")\n",
    " \n",
    "    def type(self):\n",
    "        print(\"India is a developing country.\")\n",
    "         \n",
    "class usa(India):\n",
    "    def capital(self):\n",
    "        print(\"Washington, D.C. is the capital of USA.\")\n",
    " \n",
    "    def language(self):\n",
    "        print(\"English is the primary language of USA.\")\n",
    " \n",
    "    def type(self):\n",
    "        print(\"USA is a developed country.\")\n",
    "        \n",
    "obj = usa()\n",
    "obj.capital()\n",
    "obj.language()\n",
    "obj.type()"
   ]
  },
  {
   "cell_type": "code",
   "execution_count": 8,
   "id": "9a14e541",
   "metadata": {},
   "outputs": [
    {
     "name": "stdout",
     "output_type": "stream",
     "text": [
      "Ostriches cannot fly.\n"
     ]
    }
   ],
   "source": [
    "class Bird:\n",
    "    def intro(self):\n",
    "        print(\"There are many types of birds.\")\n",
    "    def flight(self):\n",
    "        print(\"Most of the birds can fly but some cannot.\")\n",
    "\n",
    "class sparrow(Bird):\n",
    "    def flight(self):\n",
    "        print(\"Sparrows can fly.\")\n",
    "\n",
    "class ostrich(Bird):\n",
    "    def flight(self):\n",
    "        print(\"Ostriches cannot fly.\")\n",
    "        \n",
    "obj = ostrich()\n",
    "obj.flight()"
   ]
  },
  {
   "cell_type": "code",
   "execution_count": 14,
   "id": "f87d5df1",
   "metadata": {},
   "outputs": [
    {
     "name": "stdout",
     "output_type": "stream",
     "text": [
      "bw 1.1croce blue\n",
      "jakvour 45l violet\n"
     ]
    }
   ],
   "source": [
    "class Vehicle:\n",
    "    def __init__(self,name,price,color):\n",
    "        self.name=name\n",
    "        self.price=price\n",
    "        self.color=color\n",
    "        \n",
    "    def show(self):\n",
    "        print(self.name,self.price,self.color)\n",
    "    def max_speed(self):\n",
    "        print('Vehicle max speed is 150')\n",
    "\n",
    "    def change_gear(self):\n",
    "        print('Vehicle change 6 gear')   \n",
    "        \n",
    "class Car(Vehicle):\n",
    "    def max_speed(self):\n",
    "        print('Vehicle max speed is 250')\n",
    "\n",
    "    def change_gear(self):\n",
    "        print('Vehicle change 7 gear')\n",
    "        \n",
    "obj = Car(\"bw\",\"1.1croce\",\"blue\")\n",
    "obj.show()\n",
    "obj = Vehicle(\"jakvour\",'45l','violet')  \n",
    "obj.show()"
   ]
  },
  {
   "cell_type": "markdown",
   "id": "21b2ac18",
   "metadata": {},
   "source": [
    "# Method Overloading"
   ]
  },
  {
   "cell_type": "code",
   "execution_count": 11,
   "id": "c77a439a",
   "metadata": {},
   "outputs": [
    {
     "name": "stdout",
     "output_type": "stream",
     "text": [
      "area of rectangle: 200\n",
      "area of square: 100\n",
      "nothing to say\n"
     ]
    }
   ],
   "source": [
    "class Area:\n",
    "    def find_area(self,a = None,b = None):\n",
    "        if a!=None and b!=None:\n",
    "            print(\"area of rectangle:\",a*b)\n",
    "        elif a!=None:\n",
    "            print(\"area of square:\",a*a)\n",
    "        else:\n",
    "            print(\"nothing to say\")\n",
    "            \n",
    "            \n",
    "obj = Area()\n",
    "obj.find_area(10,20)\n",
    "obj.find_area(10)\n",
    "obj.find_area()\n",
    "        "
   ]
  },
  {
   "cell_type": "code",
   "execution_count": null,
   "id": "dfa041ed",
   "metadata": {},
   "outputs": [],
   "source": []
  }
 ],
 "metadata": {
  "kernelspec": {
   "display_name": "Python 3 (ipykernel)",
   "language": "python",
   "name": "python3"
  },
  "language_info": {
   "codemirror_mode": {
    "name": "ipython",
    "version": 3
   },
   "file_extension": ".py",
   "mimetype": "text/x-python",
   "name": "python",
   "nbconvert_exporter": "python",
   "pygments_lexer": "ipython3",
   "version": "3.10.9"
  }
 },
 "nbformat": 4,
 "nbformat_minor": 5
}
