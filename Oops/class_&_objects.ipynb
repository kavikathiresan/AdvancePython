{
 "cells": [
  {
   "cell_type": "markdown",
   "id": "e59e93d9",
   "metadata": {},
   "source": [
    "# Class"
   ]
  },
  {
   "cell_type": "code",
   "execution_count": null,
   "id": "c3ec5715",
   "metadata": {},
   "outputs": [],
   "source": [
    "# collection of variables and function\n",
    "# code of templates creating objects"
   ]
  },
  {
   "cell_type": "code",
   "execution_count": 1,
   "id": "5c170b64",
   "metadata": {},
   "outputs": [
    {
     "name": "stdout",
     "output_type": "stream",
     "text": [
      "5\n"
     ]
    }
   ],
   "source": [
    "class MyClass:\n",
    "    x = 5\n",
    "    print(x) # this not proper way"
   ]
  },
  {
   "cell_type": "markdown",
   "id": "65a02349",
   "metadata": {},
   "source": [
    "# class and objects"
   ]
  },
  {
   "cell_type": "code",
   "execution_count": null,
   "id": "3cdf8323",
   "metadata": {},
   "outputs": [],
   "source": [
    "# objects is a instance of class.. almost everything in python comes under objects ,its methods and properties"
   ]
  },
  {
   "cell_type": "code",
   "execution_count": 23,
   "id": "b30f629d",
   "metadata": {},
   "outputs": [
    {
     "name": "stdout",
     "output_type": "stream",
     "text": [
      "Name :rishi , Gear:10\n"
     ]
    }
   ],
   "source": [
    "class Bike:\n",
    "    name = \"\"\n",
    "    gear = 0\n",
    "biker = Bike()\n",
    "biker.name='rishi'\n",
    "biker.gear=10\n",
    "print(f'Name :{biker.name} , Gear:{biker.gear}')\n",
    "    "
   ]
  },
  {
   "cell_type": "code",
   "execution_count": 24,
   "id": "2640da29",
   "metadata": {},
   "outputs": [
    {
     "name": "stdout",
     "output_type": "stream",
     "text": [
      "5\n"
     ]
    }
   ],
   "source": [
    "class MyClass:\n",
    "    x = 5\n",
    "obj=MyClass()\n",
    "print(obj.x)"
   ]
  },
  {
   "cell_type": "code",
   "execution_count": 11,
   "id": "30f15556",
   "metadata": {},
   "outputs": [
    {
     "name": "stdout",
     "output_type": "stream",
     "text": [
      "mammal\n",
      "I'm a mammal\n",
      "I'm a dog\n"
     ]
    }
   ],
   "source": [
    "class Dog:\n",
    "    attr1 = \"mammal\"\n",
    "    attr2 = \"dog\"\n",
    "    def fun(self):\n",
    "        print(\"I'm a\", self.attr1)\n",
    "        print(\"I'm a\", self.attr2)\n",
    "Rodger = Dog()\n",
    "print(Rodger.attr1)\n",
    "Rodger.fun()"
   ]
  },
  {
   "cell_type": "code",
   "execution_count": 49,
   "id": "3bf7bbf9",
   "metadata": {},
   "outputs": [
    {
     "name": "stdout",
     "output_type": "stream",
     "text": [
      " Python programming Language \n"
     ]
    }
   ],
   "source": [
    "class Kamal():\n",
    "    def fun(self):\n",
    "        print(\" Python programming Language \")\n",
    "obj = Kamal()\n",
    "obj.fun()"
   ]
  },
  {
   "cell_type": "code",
   "execution_count": 34,
   "id": "85b8bafe",
   "metadata": {},
   "outputs": [
    {
     "name": "stdout",
     "output_type": "stream",
     "text": [
      "25\n"
     ]
    }
   ],
   "source": [
    "class Maths:\n",
    "    def square(self):\n",
    "        return self.a * self.a\n",
    "obj=Maths()\n",
    "obj.a=5\n",
    "print(obj.square())"
   ]
  },
  {
   "cell_type": "code",
   "execution_count": 15,
   "id": "9b50ba37",
   "metadata": {},
   "outputs": [
    {
     "name": "stdout",
     "output_type": "stream",
     "text": [
      "10 John\n"
     ]
    }
   ],
   "source": [
    "class Employee:  \n",
    "    id = 10  \n",
    "    name = \"John\" \n",
    "    def display(self):\n",
    "        print(f'{self.id} {self.name}')\n",
    "obj = Employee()\n",
    "obj.display()"
   ]
  },
  {
   "cell_type": "code",
   "execution_count": 35,
   "id": "200d254b",
   "metadata": {},
   "outputs": [
    {
     "name": "stdout",
     "output_type": "stream",
     "text": [
      "72\n"
     ]
    }
   ],
   "source": [
    "# can objects creates data inside the class\n",
    "class Python:\n",
    "    pass\n",
    "obj=Python()\n",
    "obj.len = 4\n",
    "obj.breadth = 6\n",
    "obj.width =3\n",
    "print(obj.len * obj.breadth * obj.width)\n"
   ]
  },
  {
   "cell_type": "markdown",
   "id": "a733b7a8",
   "metadata": {},
   "source": [
    "# same class acces 2 objects"
   ]
  },
  {
   "cell_type": "code",
   "execution_count": 38,
   "id": "2119d946",
   "metadata": {},
   "outputs": [
    {
     "name": "stdout",
     "output_type": "stream",
     "text": [
      "1\n",
      "1\n"
     ]
    }
   ],
   "source": [
    "class Kamal():\n",
    "    a = 1\n",
    "obj = Kamal()\n",
    "obj1 = Kamal()\n",
    "print(obj.a)\n",
    "print(obj1.a)"
   ]
  },
  {
   "cell_type": "markdown",
   "id": "7f14279f",
   "metadata": {},
   "source": [
    "# class and def function combinations"
   ]
  },
  {
   "cell_type": "code",
   "execution_count": 47,
   "id": "128ad7c2",
   "metadata": {},
   "outputs": [
    {
     "name": "stdout",
     "output_type": "stream",
     "text": [
      "perimeter of value :20\n",
      "perimeter of value :24\n"
     ]
    }
   ],
   "source": [
    "class Square:\n",
    "    def perimeter(self):\n",
    "        return self.side * 4\n",
    "        \n",
    "obj=Square()\n",
    "obj.side = 5\n",
    "print(f'perimeter of value :{obj.perimeter()}')\n",
    "\n",
    "obj1 = Square()\n",
    "obj.side = 6\n",
    "print(f'perimeter of value :{obj.perimeter()}')"
   ]
  },
  {
   "cell_type": "code",
   "execution_count": 48,
   "id": "2c1e48e2",
   "metadata": {},
   "outputs": [
    {
     "name": "stdout",
     "output_type": "stream",
     "text": [
      "addition of 2 nos:30\n"
     ]
    }
   ],
   "source": [
    "class Addition:\n",
    "    def fun(self):\n",
    "        return self.a +self.b\n",
    "obj = Addition()\n",
    "obj.a = 10\n",
    "obj.b = 20\n",
    "print(f'addition of 2 nos:{obj.fun()}')"
   ]
  },
  {
   "cell_type": "code",
   "execution_count": null,
   "id": "bed9fdeb",
   "metadata": {},
   "outputs": [],
   "source": []
  }
 ],
 "metadata": {
  "kernelspec": {
   "display_name": "Python 3 (ipykernel)",
   "language": "python",
   "name": "python3"
  },
  "language_info": {
   "codemirror_mode": {
    "name": "ipython",
    "version": 3
   },
   "file_extension": ".py",
   "mimetype": "text/x-python",
   "name": "python",
   "nbconvert_exporter": "python",
   "pygments_lexer": "ipython3",
   "version": "3.10.9"
  }
 },
 "nbformat": 4,
 "nbformat_minor": 5
}
