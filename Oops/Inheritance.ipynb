{
 "cells": [
  {
   "cell_type": "markdown",
   "id": "0be6cef0",
   "metadata": {},
   "source": [
    "# Inheritance - means adopting something"
   ]
  },
  {
   "cell_type": "markdown",
   "id": "9ba84864",
   "metadata": {},
   "source": [
    "# Single Inheritance\n",
    "- ONE PARENT AND ONE CHILD"
   ]
  },
  {
   "cell_type": "code",
   "execution_count": 1,
   "id": "eb35b806",
   "metadata": {},
   "outputs": [
    {
     "name": "stdout",
     "output_type": "stream",
     "text": [
      "Amazon is an Online Ecommerce Store\n",
      "Ebay is an Online Store\n",
      "OLX is an Online Buy Sell Store\n"
     ]
    }
   ],
   "source": [
    "class Brands():\n",
    "    brand_name_1 = \"Amazon\"\n",
    "    brand_name_2 = \"Ebay\"\n",
    "    brand_name_3 = \"OLX\"\n",
    "\n",
    "class Products(Brands):\n",
    "    prod_1 = \"Online Ecommerce Store\"\n",
    "    prod_2 = \"Online Store\"\n",
    "    prod_3 = \"Online Buy Sell Store\"\n",
    "    \n",
    "obj = Products()\n",
    "print(obj.brand_name_1+\" is an \"+obj.prod_1)\n",
    "print(obj.brand_name_2+\" is an \"+obj.prod_2)\n",
    "print(obj.brand_name_3+\" is an \"+obj.prod_3)"
   ]
  },
  {
   "cell_type": "code",
   "execution_count": 2,
   "id": "19581e33",
   "metadata": {},
   "outputs": [
    {
     "name": "stdout",
     "output_type": "stream",
     "text": [
      "('francky', 76) True\n",
      "('milky', 34) False\n"
     ]
    }
   ],
   "source": [
    "class Parent:\n",
    "    def __init__(self,name,age):\n",
    "        self.name=name\n",
    "        self.age=age\n",
    "    def get_in(self):\n",
    "        return self.name,self.age\n",
    "    def isstudenid(self):\n",
    "        return False\n",
    "    \n",
    "class child(Parent):\n",
    "    def isstudenid(self):\n",
    "        return True\n",
    "    \n",
    "obj1=child(\"francky\",76)\n",
    "print(obj1.get_in(),obj1.isstudenid())\n",
    "\n",
    "obj2=Parent(\"milky\",34)\n",
    "print(obj2.get_in(),obj2.isstudenid())"
   ]
  },
  {
   "cell_type": "code",
   "execution_count": 3,
   "id": "4dc83c8a",
   "metadata": {},
   "outputs": [
    {
     "name": "stdout",
     "output_type": "stream",
     "text": [
      "('harry', 5001) vaild\n",
      "('harry', 4002) invaild\n"
     ]
    }
   ],
   "source": [
    "class Parent:\n",
    "    def __init__(self,name,ids):\n",
    "        self.name=name\n",
    "        self.id=ids\n",
    "    def employee_details(self):   \n",
    "        return self.name,self.id\n",
    "    def check(self):\n",
    "        if self.id> 5000:\n",
    "            return \"vaild\"\n",
    "        else:\n",
    "            return \"invaild\"\n",
    "        \n",
    "class child(Parent):\n",
    "    def end(self):\n",
    "        print(\"end of the process\")\n",
    "        \n",
    "        \n",
    "obj = child(\"harry\",5001)\n",
    "print(obj.employee_details(),obj.check())\n",
    "obj = child(\"harry\",4002)\n",
    "print(obj.employee_details(),obj.check())"
   ]
  },
  {
   "cell_type": "markdown",
   "id": "4673803c",
   "metadata": {},
   "source": [
    "# using constructor"
   ]
  },
  {
   "cell_type": "code",
   "execution_count": 28,
   "id": "3d4f8124",
   "metadata": {},
   "outputs": [
    {
     "name": "stdout",
     "output_type": "stream",
     "text": [
      "rishi\n",
      "chris\n",
      "edward\n"
     ]
    }
   ],
   "source": [
    "class Hero:\n",
    "    def __init__(self,reelname,heroname):\n",
    "        self.reelname=reelname\n",
    "        self.heroname=heroname\n",
    "    def show(self):\n",
    "        print(self.reelname)\n",
    "        print(self.heroname)  \n",
    "class Film(Hero):\n",
    "    def __init__(self,realname,reelname,heroname):\n",
    "        Hero.__init__(self,reelname,heroname)\n",
    "        self.realname=realname\n",
    "    def display(self):\n",
    "        print(self.realname) \n",
    "        Hero.show(self)\n",
    "obj=Film(\"rishi\",\"chris\",\"edward\")   \n",
    "obj.display()"
   ]
  },
  {
   "cell_type": "markdown",
   "id": "bfba0ca4",
   "metadata": {},
   "source": [
    "# Multiple inheritance\n",
    "\n",
    "2 PARENT AND 1 CHILD and In child class we inherit 2 parent class"
   ]
  },
  {
   "cell_type": "code",
   "execution_count": 4,
   "id": "a35ec53c",
   "metadata": {},
   "outputs": [
    {
     "name": "stdout",
     "output_type": "stream",
     "text": [
      "Winged animals can flap.\n",
      "Mammals can give direct birth.\n"
     ]
    }
   ],
   "source": [
    "class Mammal:\n",
    "    def mammal_info(self):\n",
    "        print(\"Mammals can give direct birth.\")\n",
    "\n",
    "class WingedAnimal:\n",
    "    def winged_animal_info(self):\n",
    "        print(\"Winged animals can flap.\")\n",
    "\n",
    "class Bat(Mammal, WingedAnimal):\n",
    "    pass\n",
    "obj=Bat()\n",
    "obj.winged_animal_info()\n",
    "obj.mammal_info()"
   ]
  },
  {
   "cell_type": "code",
   "execution_count": 5,
   "id": "b3820c15",
   "metadata": {
    "scrolled": false
   },
   "outputs": [
    {
     "name": "stdout",
     "output_type": "stream",
     "text": [
      "9\n",
      "20\n",
      "2.0\n"
     ]
    }
   ],
   "source": [
    "class addition:\n",
    "    def add(self,a,b):\n",
    "        return a+b\n",
    "class multiplication:\n",
    "    def mul(self,a,b):\n",
    "        return a*b\n",
    "    \n",
    "class divided(addition,multiplication):\n",
    "    def divide(self,a,b):\n",
    "        return a/b\n",
    "    \n",
    "d = divided()\n",
    "print(d.add(4,5))\n",
    "print(d.mul(4,5))\n",
    "print(d.divide(6,3))\n",
    "        "
   ]
  },
  {
   "cell_type": "code",
   "execution_count": 7,
   "id": "8cbac45f",
   "metadata": {},
   "outputs": [
    {
     "data": {
      "text/plain": [
       "3.0"
      ]
     },
     "execution_count": 7,
     "metadata": {},
     "output_type": "execute_result"
    }
   ],
   "source": [
    "class addition:\n",
    "    def add(self,a,b):\n",
    "        return a+b\n",
    "class multiplication:\n",
    "    def mul(self,a,b):\n",
    "        return a*b\n",
    "    \n",
    "class divided(addition,multiplication):\n",
    "    def divide(self,a,b):\n",
    "        return a/b\n",
    "    \n",
    "d = divided()\n",
    "d.divide(6,2)"
   ]
  },
  {
   "cell_type": "code",
   "execution_count": 36,
   "id": "4080b20f",
   "metadata": {},
   "outputs": [
    {
     "name": "stdout",
     "output_type": "stream",
     "text": [
      "geeks comes\n"
     ]
    }
   ],
   "source": [
    "class First:\n",
    "    def __init__(self):\n",
    "        self.name=\"geeks\"\n",
    "class Second:\n",
    "    def __init__(self):\n",
    "        self.greet = \"comes\"\n",
    "class dervied(First,Second):\n",
    "    def __init__(self):\n",
    "        First.__init__(self)\n",
    "        Second.__init__(self)\n",
    "    def res(self):\n",
    "        print(self.name,self.greet)\n",
    "obj = dervied()\n",
    "obj.res()"
   ]
  },
  {
   "cell_type": "markdown",
   "id": "709086bd",
   "metadata": {},
   "source": [
    "# Multilevel Inheritance"
   ]
  },
  {
   "cell_type": "code",
   "execution_count": null,
   "id": "cc02ffe7",
   "metadata": {},
   "outputs": [],
   "source": [
    "- parent-1 child(inherit parent) - 2child(inherit child 1)"
   ]
  },
  {
   "cell_type": "code",
   "execution_count": 37,
   "id": "cf5c3e75",
   "metadata": {},
   "outputs": [
    {
     "name": "stdout",
     "output_type": "stream",
     "text": [
      "Derived class 2 method called\n",
      "Derived class 1 method called\n",
      "Super Class method called\n"
     ]
    }
   ],
   "source": [
    "class SuperClass:\n",
    "     def super_method(self):\n",
    "        print(\"Super Class method called\")\n",
    "        \n",
    "class DerivedClass1(SuperClass):\n",
    "    def derived1_method(self):\n",
    "        print(\"Derived class 1 method called\")\n",
    "        \n",
    "class DerivedClass2(DerivedClass1):\n",
    "    def derived2_method(self):\n",
    "        print(\"Derived class 2 method called\") \n",
    "        \n",
    "d= DerivedClass2()\n",
    "d.derived2_method()\n",
    "d.derived1_method()\n",
    "d.super_method()"
   ]
  },
  {
   "cell_type": "markdown",
   "id": "3f4c79d1",
   "metadata": {},
   "source": [
    "# using constructor"
   ]
  },
  {
   "cell_type": "code",
   "execution_count": 15,
   "id": "31167fd2",
   "metadata": {},
   "outputs": [
    {
     "name": "stdout",
     "output_type": "stream",
     "text": [
      "kavi 28 chennai\n"
     ]
    }
   ],
   "source": [
    "class grandfather:\n",
    "    def __init__(self,name):\n",
    "        self.name=name\n",
    "    def get_name(self):\n",
    "        return self.name\n",
    "class parent(grandfather):\n",
    "    def  __init__(self,name,age):\n",
    "        grandfather.__init__(self,name)\n",
    "        self.age=age\n",
    "    def get_age(self):\n",
    "        return self.age\n",
    "\n",
    "class child(parent):\n",
    "    def  __init__(self,name,age,location):\n",
    "        parent.__init__(self,name,age)\n",
    "        self.location=location\n",
    "    def get_location(self):\n",
    "        return self.location\n",
    "obj=child(\"kavi\",28,\"chennai\")\n",
    "print(obj.get_name(),obj.get_age(),obj.get_location())"
   ]
  },
  {
   "cell_type": "markdown",
   "id": "584b5f0e",
   "metadata": {},
   "source": [
    "# Hierarchical Inheritance"
   ]
  },
  {
   "cell_type": "raw",
   "id": "035b1b4c",
   "metadata": {},
   "source": [
    "- one parent - 1 child (inherit parent)-2 child (inherit parent)"
   ]
  },
  {
   "cell_type": "code",
   "execution_count": 39,
   "id": "3065fac3",
   "metadata": {},
   "outputs": [
    {
     "name": "stdout",
     "output_type": "stream",
     "text": [
      "Parent of B and C\n",
      "Child class of A\n",
      "Parent of B and C\n",
      "Child class of A\n"
     ]
    }
   ],
   "source": [
    "class A:\n",
    "\n",
    "    def function_1(self):\n",
    "        print ('Parent of B and C')\n",
    "\n",
    "class B(A):\n",
    "\n",
    "    def function_2(self):\n",
    "        print ('Child class of A')\n",
    "\n",
    "\n",
    "class C(A):\n",
    "\n",
    "    def function_3(self):\n",
    "        print ('Child class of A')\n",
    "\n",
    "object1 = C()\n",
    "object2 = B()\n",
    "object1.function_1()\n",
    "object1.function_3()\n",
    "object2.function_1()\n",
    "object2.function_2()   "
   ]
  },
  {
   "cell_type": "markdown",
   "id": "7f4ef2b2",
   "metadata": {},
   "source": [
    "# using constructor"
   ]
  },
  {
   "cell_type": "code",
   "execution_count": 19,
   "id": "02a52780",
   "metadata": {},
   "outputs": [
    {
     "name": "stdout",
     "output_type": "stream",
     "text": [
      "('helo', 'hi')\n",
      "kavi Hari\n"
     ]
    }
   ],
   "source": [
    "class Parent:\n",
    "    def __init__(self,attr1):\n",
    "        self.attr1=attr1\n",
    "class child1(Parent):\n",
    "    def __init__(self,attr1,attr2):\n",
    "        Parent.__init__(self,attr1)\n",
    "        self.attr2=attr2\n",
    "    def show(self):\n",
    "        return self.attr1 +\" \"+ self.attr2\n",
    "class child2(Parent):\n",
    "    def __init__(self,attr1,attr3):\n",
    "        Parent.__init__(self,attr1)\n",
    "        self.attr3=attr3\n",
    "    def display(self):\n",
    "        return self.attr1,self.attr3\n",
    "        \n",
    "obj=child2(\"helo\",\"hi\")\n",
    "print(obj.display())\n",
    "\n",
    "obj = child1(\"kavi\",\"Hari\")\n",
    "print(obj.show())\n",
    "\n"
   ]
  },
  {
   "cell_type": "code",
   "execution_count": 21,
   "id": "40182590",
   "metadata": {},
   "outputs": [
    {
     "name": "stdout",
     "output_type": "stream",
     "text": [
      "('helo', 'hi')\n",
      "kavi Hari\n",
      "None\n"
     ]
    }
   ],
   "source": [
    "class Parent:\n",
    "    def __init__(self,attr1):\n",
    "        self.attr1=attr1\n",
    "class child1(Parent):\n",
    "    def __init__(self,attr1,attr2):\n",
    "        Parent.__init__(self,attr1)\n",
    "        self.attr2=attr2\n",
    "    def show(self):\n",
    "        print(self.attr1 +\" \"+ self.attr2) \n",
    "class child2(Parent):\n",
    "    def __init__(self,attr1,attr3):\n",
    "        Parent.__init__(self,attr1)\n",
    "        self.attr3=attr3\n",
    "    def display(self):\n",
    "        return self.attr1,self.attr3\n",
    "        \n",
    "obj=child2(\"helo\",\"hi\")\n",
    "print(obj.display())\n",
    "\n",
    "obj = child1(\"kavi\",\"Hari\")\n",
    "print(obj.show())"
   ]
  },
  {
   "cell_type": "markdown",
   "id": "b473d16c",
   "metadata": {},
   "source": [
    "# Hybrid Inheritance"
   ]
  },
  {
   "cell_type": "code",
   "execution_count": 23,
   "id": "0fb51638",
   "metadata": {},
   "outputs": [
    {
     "name": "stdout",
     "output_type": "stream",
     "text": [
      "this function is a master of students\n",
      "this function is a student girl name\n",
      "this function is a student boys name\n"
     ]
    }
   ],
   "source": [
    "class school:\n",
    "    def name(self):\n",
    "        print(\"this function is a schoolname\")\n",
    "class student_boy(school):\n",
    "    def boy(self):\n",
    "        print(\"this function is a student boys name\")\n",
    "class student_girl(school):\n",
    "    def girl(self):\n",
    "        print(\"this function is a student girl name\")\n",
    "        \n",
    "class teacher(student_boy,student_girl):\n",
    "    def teacher_master(self):\n",
    "        print(\"this function is a master of students\")\n",
    "        \n",
    "obj = teacher()\n",
    "obj.teacher_master()\n",
    "obj.girl()\n",
    "obj.boy()"
   ]
  },
  {
   "cell_type": "code",
   "execution_count": null,
   "id": "b236726f",
   "metadata": {},
   "outputs": [],
   "source": []
  }
 ],
 "metadata": {
  "kernelspec": {
   "display_name": "Python 3 (ipykernel)",
   "language": "python",
   "name": "python3"
  },
  "language_info": {
   "codemirror_mode": {
    "name": "ipython",
    "version": 3
   },
   "file_extension": ".py",
   "mimetype": "text/x-python",
   "name": "python",
   "nbconvert_exporter": "python",
   "pygments_lexer": "ipython3",
   "version": "3.10.9"
  }
 },
 "nbformat": 4,
 "nbformat_minor": 5
}
