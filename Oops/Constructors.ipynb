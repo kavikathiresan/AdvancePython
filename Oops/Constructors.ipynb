{
 "cells": [
  {
   "cell_type": "markdown",
   "id": "b5f8d3b9",
   "metadata": {},
   "source": [
    "# constructor- copy of the class"
   ]
  },
  {
   "cell_type": "code",
   "execution_count": null,
   "id": "c895352b",
   "metadata": {},
   "outputs": [],
   "source": [
    "# writing a logic without any extra class of a object or function "
   ]
  },
  {
   "cell_type": "markdown",
   "id": "d23cca29",
   "metadata": {},
   "source": [
    "#  Default Constructor"
   ]
  },
  {
   "cell_type": "code",
   "execution_count": null,
   "id": "b88c6a06",
   "metadata": {},
   "outputs": [],
   "source": [
    "# Once creating the object of the class ,Default constructor will be called"
   ]
  },
  {
   "cell_type": "code",
   "execution_count": 5,
   "id": "c48c59ac",
   "metadata": {},
   "outputs": [
    {
     "name": "stdout",
     "output_type": "stream",
     "text": [
      "value is:Geeks for Seeks\n"
     ]
    }
   ],
   "source": [
    "class Geeks:\n",
    "    def __init__(self):\n",
    "        self.geek = \"Geeks for Seeks\"\n",
    "    def show(self):\n",
    "        print(f'value is:{self.geek}')\n",
    "              \n",
    "              \n",
    "obj = Geeks()\n",
    "obj.show()              "
   ]
  },
  {
   "cell_type": "code",
   "execution_count": 9,
   "id": "90562783",
   "metadata": {},
   "outputs": [
    {
     "name": "stdout",
     "output_type": "stream",
     "text": [
      " I am constructor \n"
     ]
    }
   ],
   "source": [
    "class kamal():\n",
    "    def __init__(self):\n",
    "        print(\" I am constructor \")\n",
    "obj = kamal()"
   ]
  },
  {
   "cell_type": "markdown",
   "id": "f9bc189b",
   "metadata": {},
   "source": [
    "# Parameter constructor"
   ]
  },
  {
   "cell_type": "code",
   "execution_count": 10,
   "id": "5c6ed25c",
   "metadata": {},
   "outputs": [
    {
     "data": {
      "text/plain": [
       "30"
      ]
     },
     "execution_count": 10,
     "metadata": {},
     "output_type": "execute_result"
    }
   ],
   "source": [
    "class Addition:\n",
    "    def __init__(self,a,b):\n",
    "        self.a=a\n",
    "        self.b=b\n",
    "    def add(self):\n",
    "        return self.a+self.b\n",
    "obj = Addition(10,20)\n",
    "obj.add()"
   ]
  },
  {
   "cell_type": "code",
   "execution_count": 24,
   "id": "07d9af1f",
   "metadata": {},
   "outputs": [
    {
     "name": "stdout",
     "output_type": "stream",
     "text": [
      "the addition of 3 nos: 100\n"
     ]
    }
   ],
   "source": [
    "class number:\n",
    "    first = 0\n",
    "    second = 0\n",
    "    third = 0\n",
    "    def __init__(self,f,s,t):\n",
    "        self.first = f \n",
    "        self.second = s\n",
    "        self.third = t\n",
    "    \n",
    "    def display(self):\n",
    "        #print( \"the addition of 2 nos:\",self.first +self.second)\n",
    "        print( \"the addition of 3 nos:\",self.first +self.second + self.third)\n",
    "        \n",
    "        \n",
    "#obj = number(10,20)\n",
    "#obj.display()\n",
    "#obj1 = number(40,20)\n",
    "#obj1.display()\n",
    "obj2 = number(40,20,40)\n",
    "obj2.display()"
   ]
  },
  {
   "cell_type": "code",
   "execution_count": 25,
   "id": "568ab923",
   "metadata": {},
   "outputs": [
    {
     "name": "stdout",
     "output_type": "stream",
     "text": [
      "the addition of 2 nos: 30\n",
      "the addition of 2 nos: 60\n"
     ]
    }
   ],
   "source": [
    "class number:\n",
    "    first = 0\n",
    "    second = 0\n",
    "    \n",
    "    def __init__(self,f,s):\n",
    "        self.first = f \n",
    "        self.second = s\n",
    "        \n",
    "    \n",
    "    def display(self):\n",
    "        print( \"the addition of 2 nos:\",self.first +self.second)\n",
    "        \n",
    "               \n",
    "obj = number(10,20)\n",
    "obj.display()\n",
    "obj1 = number(40,20)\n",
    "obj1.display()\n"
   ]
  },
  {
   "cell_type": "code",
   "execution_count": 27,
   "id": "29ad4265",
   "metadata": {},
   "outputs": [
    {
     "name": "stdout",
     "output_type": "stream",
     "text": [
      "Default constructor called\n",
      "Method called without a name\n",
      "Parameterized constructor called with name kavi\n",
      "Method called with name kavi\n"
     ]
    }
   ],
   "source": [
    "\n",
    "class MyClass:\n",
    "    def __init__(self, name=None):\n",
    "        if name is None:\n",
    "            print(\"Default constructor called\")\n",
    "        else:\n",
    "            self.name = name\n",
    "            print(\"Parameterized constructor called with name\", self.name)\n",
    "     \n",
    "    def method(self):\n",
    "        if hasattr(self, 'name'):\n",
    "            print(\"Method called with name\", self.name)\n",
    "        else:\n",
    "            print(\"Method called without a name\")\n",
    "obj1 = MyClass()\n",
    "obj1.method()\n",
    "obj2 = MyClass('kavi')\n",
    "obj2.method()"
   ]
  },
  {
   "cell_type": "code",
   "execution_count": null,
   "id": "e3a72775",
   "metadata": {},
   "outputs": [],
   "source": []
  }
 ],
 "metadata": {
  "kernelspec": {
   "display_name": "Python 3 (ipykernel)",
   "language": "python",
   "name": "python3"
  },
  "language_info": {
   "codemirror_mode": {
    "name": "ipython",
    "version": 3
   },
   "file_extension": ".py",
   "mimetype": "text/x-python",
   "name": "python",
   "nbconvert_exporter": "python",
   "pygments_lexer": "ipython3",
   "version": "3.10.9"
  }
 },
 "nbformat": 4,
 "nbformat_minor": 5
}
