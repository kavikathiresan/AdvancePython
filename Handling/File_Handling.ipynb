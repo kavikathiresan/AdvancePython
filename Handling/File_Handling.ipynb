{
 "cells": [
  {
   "cell_type": "code",
   "execution_count": null,
   "id": "2d23c5c3",
   "metadata": {},
   "outputs": [],
   "source": [
    "# Create a .txt file and insert the data\n",
    "-write\n",
    "-read\n",
    "-append\n",
    "-readline\n",
    "-readlines"
   ]
  },
  {
   "cell_type": "markdown",
   "id": "23506273",
   "metadata": {},
   "source": [
    "# Write"
   ]
  },
  {
   "cell_type": "code",
   "execution_count": 1,
   "id": "afeac0df",
   "metadata": {},
   "outputs": [],
   "source": [
    "# creating a file and write the data and this new file will be in same path\n",
    "with open('doc.txt','w') as d:\n",
    "    d.write(\"hi welcome to python\")\n",
    "    d.close()"
   ]
  },
  {
   "cell_type": "code",
   "execution_count": 4,
   "id": "27cbcc66",
   "metadata": {},
   "outputs": [],
   "source": [
    "# path location in desktop and \\\\\n",
    "with open('C:\\\\Users\\\\91893\\\\Desktop\\\\handling.txt','w') as new:\n",
    "    new.write(\"hi welcome to python\")\n",
    "    new.close()"
   ]
  },
  {
   "cell_type": "markdown",
   "id": "e5ceffa6",
   "metadata": {},
   "source": [
    "# Read"
   ]
  },
  {
   "cell_type": "code",
   "execution_count": 6,
   "id": "a647047d",
   "metadata": {},
   "outputs": [
    {
     "name": "stdout",
     "output_type": "stream",
     "text": [
      "hi welcome to python\n"
     ]
    }
   ],
   "source": [
    "# read the file \n",
    "with open('C:\\\\Users\\\\91893\\\\Desktop\\\\handling.txt','r') as new:\n",
    "          print(new.read())"
   ]
  },
  {
   "cell_type": "code",
   "execution_count": 9,
   "id": "a48f8366",
   "metadata": {},
   "outputs": [
    {
     "name": "stdout",
     "output_type": "stream",
     "text": [
      "Every year, the world creates huge amounts of data thatâ€™s only accelerating. \n",
      "Companies now have access to unprecedented amounts of data, which they need to process and understand. \n",
      "Data scientists are responsible for transforming this growing ocean of data into valuable and actionable information.\n",
      "The Bureau of Labor Statistics projects 31.4 percent employment growth for data scientists between 2020 and 2030. In that period, an estimated 19,800 jobs should open up.\n",
      "\n"
     ]
    }
   ],
   "source": [
    "with open('T:\\\\python\\\\class\\\\sys.txt','r') as d:\n",
    "    print(d.read())"
   ]
  },
  {
   "cell_type": "markdown",
   "id": "1d80df10",
   "metadata": {},
   "source": [
    "# append"
   ]
  },
  {
   "cell_type": "code",
   "execution_count": null,
   "id": "dc3f0217",
   "metadata": {},
   "outputs": [],
   "source": [
    "# add the data\n"
   ]
  },
  {
   "cell_type": "code",
   "execution_count": 10,
   "id": "c959a7f0",
   "metadata": {},
   "outputs": [],
   "source": [
    "# path location in desktop and use \\\\\n",
    "with open('C:\\\\Users\\\\91893\\\\Desktop\\\\handling.txt','a') as new:\n",
    "    new.write(\"hi welcome to python and Every year, the world creates huge amounts of data thatâ€™s only accelerating. \")\n",
    "    new.close()"
   ]
  },
  {
   "cell_type": "markdown",
   "id": "e60d9f63",
   "metadata": {},
   "source": [
    "# Overwrite"
   ]
  },
  {
   "cell_type": "code",
   "execution_count": null,
   "id": "5142860c",
   "metadata": {},
   "outputs": [],
   "source": [
    "# hi welcome to python and Every year, the world creates huge amounts of data thatâ€™s only accelerating. \n",
    "\n",
    "#instead this \n",
    "# we get hi welcome to python"
   ]
  },
  {
   "cell_type": "code",
   "execution_count": 11,
   "id": "dd6e8638",
   "metadata": {},
   "outputs": [],
   "source": [
    "with open('C:\\\\Users\\\\91893\\\\Desktop\\\\handling.txt','w') as new:\n",
    "    new.write(\"hi welcome to python\")\n",
    "    new.close()"
   ]
  },
  {
   "cell_type": "markdown",
   "id": "3ead022a",
   "metadata": {},
   "source": [
    "# Readline"
   ]
  },
  {
   "cell_type": "code",
   "execution_count": 13,
   "id": "f35114f2",
   "metadata": {},
   "outputs": [
    {
     "name": "stdout",
     "output_type": "stream",
     "text": [
      "hi welcome to python and Every year, the world creates huge amounts of data thatonly accelerating. \n",
      "\n"
     ]
    }
   ],
   "source": [
    "# read the single line or small position from data\n",
    "with open('C:\\\\Users\\\\91893\\\\Desktop\\\\handling.txt','r') as d:\n",
    "    print(d.readline())"
   ]
  },
  {
   "cell_type": "markdown",
   "id": "ae3b993a",
   "metadata": {},
   "source": [
    "# Readlines"
   ]
  },
  {
   "cell_type": "code",
   "execution_count": 14,
   "id": "aeaac7c8",
   "metadata": {},
   "outputs": [
    {
     "name": "stdout",
     "output_type": "stream",
     "text": [
      "['hi welcome to python and Every year, the world creates huge amounts of data thatonly accelerating. \\n', 'Companies now have access to unprecedented amounts of data, which they need to process and understand. \\n', 'Data scientists are responsible for transforming this growing ocean of data into valuable and actionable information.\\n', 'The Bureau of Labor Statistics projects 31.4 percent employment growth for data scientists between 2020 and 2030. In that period, an estimated 19,800 jobs should open up.']\n"
     ]
    }
   ],
   "source": [
    "# read the entire data from file\n",
    "with open('C:\\\\Users\\\\91893\\\\Desktop\\\\handling.txt','r') as f:\n",
    "    print(f.readlines())"
   ]
  },
  {
   "cell_type": "code",
   "execution_count": null,
   "id": "69db04b9",
   "metadata": {},
   "outputs": [],
   "source": []
  }
 ],
 "metadata": {
  "kernelspec": {
   "display_name": "Python 3 (ipykernel)",
   "language": "python",
   "name": "python3"
  },
  "language_info": {
   "codemirror_mode": {
    "name": "ipython",
    "version": 3
   },
   "file_extension": ".py",
   "mimetype": "text/x-python",
   "name": "python",
   "nbconvert_exporter": "python",
   "pygments_lexer": "ipython3",
   "version": "3.10.9"
  }
 },
 "nbformat": 4,
 "nbformat_minor": 5
}
