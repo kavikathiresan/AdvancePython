{
 "cells": [
  {
   "cell_type": "markdown",
   "id": "4d395846",
   "metadata": {},
   "source": [
    "# ZeroDivisonError:"
   ]
  },
  {
   "cell_type": "code",
   "execution_count": null,
   "id": "1042ac38",
   "metadata": {},
   "outputs": [],
   "source": [
    "12 / 0 "
   ]
  },
  {
   "cell_type": "markdown",
   "id": "5af46cc0",
   "metadata": {},
   "source": [
    "# NameError "
   ]
  },
  {
   "cell_type": "code",
   "execution_count": null,
   "id": "27091c2c",
   "metadata": {},
   "outputs": [],
   "source": [
    "a = 'kamal'\n",
    "print(l)"
   ]
  },
  {
   "cell_type": "markdown",
   "id": "1f52e0e0",
   "metadata": {},
   "source": [
    "# ValueError"
   ]
  },
  {
   "cell_type": "code",
   "execution_count": null,
   "id": "633aa8fb",
   "metadata": {
    "scrolled": true
   },
   "outputs": [],
   "source": [
    "a = 'k'\n",
    "b = int(a)\n",
    "print(b)"
   ]
  },
  {
   "cell_type": "markdown",
   "id": "dbe8d9ff",
   "metadata": {},
   "source": [
    "# IOError "
   ]
  },
  {
   "cell_type": "code",
   "execution_count": null,
   "id": "6a5cbb6b",
   "metadata": {},
   "outputs": [],
   "source": [
    "with open('python.txt','r') as f:\n",
    "    print(f.read())\n",
    "    f.close()"
   ]
  },
  {
   "cell_type": "markdown",
   "id": "f7ded640",
   "metadata": {},
   "source": [
    "# Identation error"
   ]
  },
  {
   "cell_type": "code",
   "execution_count": null,
   "id": "2a79a5e5",
   "metadata": {},
   "outputs": [],
   "source": [
    "a = [1,2,3,4]\n",
    "for i in a:\n",
    "print(i)"
   ]
  },
  {
   "cell_type": "markdown",
   "id": "ceed5c30",
   "metadata": {},
   "source": [
    "# EXCEPTION HANDLING"
   ]
  },
  {
   "cell_type": "code",
   "execution_count": null,
   "id": "9ad59604",
   "metadata": {},
   "outputs": [],
   "source": [
    "def fun(a):\n",
    "    if a < 4:\n",
    "        b = a/(a-3) #3-3/0 \n",
    "    print(\"Value of b = \", b)\n",
    "try:\n",
    "    \n",
    "    fun(3)\n",
    "    \n",
    "except ZeroDivisionError:\n",
    "    print(\"ZeroDivisionError Occurred and Handled\")\n",
    "except NameError:\n",
    "    print(\"NameError Occurred and Handled\")    "
   ]
  },
  {
   "cell_type": "code",
   "execution_count": null,
   "id": "d96cb8b7",
   "metadata": {},
   "outputs": [],
   "source": [
    "def fun(a):\n",
    "    if a < 4:\n",
    "        b = a/(a-3)  \n",
    "    print(\"Value of b = \", b)\n",
    "try:\n",
    "    \n",
    "    fun(5)\n",
    "    \n",
    "except ZeroDivisionError:\n",
    "    print(\"ZeroDivisionError Occurred and Handled\")\n",
    "except NameError:\n",
    "    print(\"NameError Occurred and Handled\")"
   ]
  },
  {
   "cell_type": "code",
   "execution_count": null,
   "id": "3dba56f5",
   "metadata": {},
   "outputs": [],
   "source": [
    "def num(k):\n",
    "    try:\n",
    "        k=5/0\n",
    "        print(k)\n",
    "    except ZeroDivisionError:\n",
    "        print(\"k can't be divide by zero\")\n",
    "num(5)       "
   ]
  },
  {
   "cell_type": "code",
   "execution_count": null,
   "id": "a9bae165",
   "metadata": {},
   "outputs": [],
   "source": [
    "try:\n",
    "    a = int(input(\"Enter a Number = \"))\n",
    "    b = a / 0\n",
    "    print(b)\n",
    "except ZeroDivisionError:\n",
    "    print(\"zero cannot be denominator\")"
   ]
  },
  {
   "cell_type": "markdown",
   "id": "c17e1225",
   "metadata": {},
   "source": [
    "# Finally"
   ]
  },
  {
   "cell_type": "code",
   "execution_count": null,
   "id": "400832ea",
   "metadata": {},
   "outputs": [],
   "source": [
    "try:\n",
    "    f= open(\"demofile.txt\")\n",
    "    f.write(\"enter the world\")\n",
    "except:\n",
    "    print(\"something went to wrong\")\n",
    "finally:\n",
    "    f.close()"
   ]
  },
  {
   "cell_type": "code",
   "execution_count": null,
   "id": "223780e2",
   "metadata": {},
   "outputs": [],
   "source": [
    "x = \"hello\"\n",
    "\n",
    "if not type(x) is str:\n",
    "    raise TypeError(\"Only integers are allowed\")"
   ]
  },
  {
   "cell_type": "markdown",
   "id": "c885f77d",
   "metadata": {},
   "source": [
    "# Else"
   ]
  },
  {
   "cell_type": "code",
   "execution_count": 9,
   "id": "0e232de5",
   "metadata": {},
   "outputs": [
    {
     "name": "stdout",
     "output_type": "stream",
     "text": [
      "Hello\n",
      "Nothing went wrong\n"
     ]
    }
   ],
   "source": [
    "try:\n",
    "    print(\"Hello\")\n",
    "except:\n",
    "    print(\"Something went wrong\")\n",
    "else:\n",
    "    print(\"Nothing went wrong\")"
   ]
  },
  {
   "cell_type": "code",
   "execution_count": 8,
   "id": "69a01a9e",
   "metadata": {},
   "outputs": [
    {
     "name": "stdout",
     "output_type": "stream",
     "text": [
      "name 'name1' is not defined\n"
     ]
    }
   ],
   "source": [
    "try:\n",
    "    name = 'kamal'\n",
    "    print(name1)\n",
    "except Exception as f:\n",
    "    print(f)"
   ]
  },
  {
   "cell_type": "code",
   "execution_count": 6,
   "id": "0343a36d",
   "metadata": {},
   "outputs": [
    {
     "name": "stdout",
     "output_type": "stream",
     "text": [
      "enter the numberl\n",
      "invalid literal for int() with base 10: 'l'\n",
      "enter the number\n",
      "something goes wrong\n"
     ]
    }
   ],
   "source": [
    "num1=input(\"enter the number\")\n",
    "try:\n",
    "    num2=int(num1)\n",
    "    print(num2)\n",
    "except Exception as f:\n",
    "    print(f)\n",
    "    print(\"enter the number\")\n",
    "print(\"something goes wrong\")    \n",
    "    "
   ]
  },
  {
   "cell_type": "code",
   "execution_count": 5,
   "id": "6259380c",
   "metadata": {},
   "outputs": [
    {
     "name": "stdout",
     "output_type": "stream",
     "text": [
      "enter the number3\n",
      "3\n",
      "something goes wrong\n"
     ]
    }
   ],
   "source": [
    "num1=input(\"enter the number\")\n",
    "try:\n",
    "    num2=int(num1)\n",
    "    print(num2)\n",
    "except Exception as f:\n",
    "    print(f)\n",
    "    print(\"enter the number\")\n",
    "print(\"something goes wrong\")   "
   ]
  },
  {
   "cell_type": "code",
   "execution_count": 4,
   "id": "3400c33f",
   "metadata": {},
   "outputs": [
    {
     "name": "stdout",
     "output_type": "stream",
     "text": [
      "Please enter a number: 6\n",
      "6\n",
      "Outside of try-except clauses. This statement is always executed.\n"
     ]
    }
   ],
   "source": [
    "num1 = input(\"Please enter a number: \")\n",
    "try:\n",
    "    num2 = int(num1)\n",
    "    print(num2)\n",
    "except ValueError as e:\n",
    "    print(\"Exception:\", e)\n",
    "    print(\"Please enter the correct input\")\n",
    "print(\"Outside of try-except clauses. This statement is always executed.\")"
   ]
  },
  {
   "cell_type": "code",
   "execution_count": 3,
   "id": "77553e1f",
   "metadata": {},
   "outputs": [
    {
     "name": "stdout",
     "output_type": "stream",
     "text": [
      "[Errno 2] No such file or directory: 'python.txt'\n"
     ]
    }
   ],
   "source": [
    "try:\n",
    "    with open('python.txt','r') as f:\n",
    "        print(f.read())\n",
    "        f.close()\n",
    "except Exception as d:\n",
    "    print(d)"
   ]
  },
  {
   "cell_type": "code",
   "execution_count": 2,
   "id": "7101b886",
   "metadata": {
    "scrolled": true
   },
   "outputs": [
    {
     "name": "stdout",
     "output_type": "stream",
     "text": [
      "enter the number8\n",
      "1.25\n",
      "game over\n"
     ]
    }
   ],
   "source": [
    "num = input(\"enter the number\")\n",
    "try:\n",
    "    num2=int(num)\n",
    "    num3=10/num2\n",
    "except ValueError as e:\n",
    "    print(\"please enter non-value error\")\n",
    "except ZeroDivisionError:\n",
    "    print(\"zero value\")\n",
    "else:\n",
    "    print(num3)\n",
    "finally:\n",
    "    print(\"game over\")"
   ]
  },
  {
   "cell_type": "code",
   "execution_count": 15,
   "id": "5ac212a6",
   "metadata": {},
   "outputs": [
    {
     "name": "stdout",
     "output_type": "stream",
     "text": [
      "invalid literal for int() with base 10: 'python'\n",
      "game over\n"
     ]
    }
   ],
   "source": [
    "num = 'python'\n",
    "try:\n",
    "    num2=int(num)\n",
    "    num3=10/num2\n",
    "    \n",
    "except ValueError as e:\n",
    "    print(e)\n",
    "\n",
    "except ZeroDivisionError as f:\n",
    "    print(f)\n",
    "else:\n",
    "    print(num3)\n",
    "finally:\n",
    "    print(\"game over\")"
   ]
  },
  {
   "cell_type": "code",
   "execution_count": null,
   "id": "69ca5c0a",
   "metadata": {},
   "outputs": [],
   "source": []
  },
  {
   "cell_type": "code",
   "execution_count": null,
   "id": "15231251",
   "metadata": {},
   "outputs": [],
   "source": []
  }
 ],
 "metadata": {
  "kernelspec": {
   "display_name": "Python 3 (ipykernel)",
   "language": "python",
   "name": "python3"
  },
  "language_info": {
   "codemirror_mode": {
    "name": "ipython",
    "version": 3
   },
   "file_extension": ".py",
   "mimetype": "text/x-python",
   "name": "python",
   "nbconvert_exporter": "python",
   "pygments_lexer": "ipython3",
   "version": "3.10.9"
  }
 },
 "nbformat": 4,
 "nbformat_minor": 5
}
